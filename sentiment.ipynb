{
 "cells": [
  {
   "cell_type": "code",
   "execution_count": 8,
   "metadata": {},
   "outputs": [
    {
     "data": {
      "text/plain": [
       "32.16765458569975"
      ]
     },
     "execution_count": 8,
     "metadata": {},
     "output_type": "execute_result"
    }
   ],
   "source": [
    "import numpy as np\n",
    "\n",
    "def get_relevance(num_likes, num_rt):\n",
    "    \"\"\"Factors in the number of likes and retweets a post has to determine\n",
    "        how relevant that Tweet is (how many people see it/are affected by it)\n",
    "        Parameters:\n",
    "        - num_likes: the number of likes a Tweet has\n",
    "        - num_rt: the number of retweets a Tweet has\n",
    "    \"\"\"\n",
    "    \n",
    "    # definitely need to play around with how exactly we want these numbers to work\n",
    "    # maybe try to think of some test cases that make the numbers better\n",
    "    likes_coeff = 0.1 * np.sqrt(num_likes)\n",
    "    rt_coeff = 0.3 * np.sqrt(num_rt)\n",
    "    return (likes_coeff + rt_coeff) / 100\n",
    "\n",
    "    \n",
    "likes = 12000\n",
    "rt = 5000\n",
    "get_relevancy(likes, rt)"
   ]
  },
  {
   "cell_type": "code",
   "execution_count": 35,
   "metadata": {},
   "outputs": [
    {
     "name": "stdout",
     "output_type": "stream",
     "text": [
      "{'Positive': 0.5244060938311266, 'Negative': 0.48578521236878325, 'Neutral': 0.527420243556249, 'Mixed': 0.5070622571534353}\n"
     ]
    },
    {
     "data": {
      "text/plain": [
       "0.5558621318171856"
      ]
     },
     "execution_count": 35,
     "metadata": {},
     "output_type": "execute_result"
    }
   ],
   "source": [
    "import numpy as np\n",
    "\n",
    "def compute_article_score(sent_dict):\n",
    "    \"\"\"Computes the average of each sentiment list\n",
    "    - each list item is from a key phrase in the article/Tweet\n",
    "    - sentiments include POSITIVE, NEGATIVE, MIXED, and NEUTRAL\n",
    "    - Parameter: sent_dict:\n",
    "        - structured as {'sentiment1': [score1, score2, ..., scoren], ..., sentiment4: [score1, score2, ..., scoren]}\n",
    "    - return: a float value between 0 and 1 that reflects the overall sentiment of the article\n",
    "        - value of 0-40 = NEGATIVE, 40-60 = NEUTRAL, 60-100 = POSITIVE\n",
    "    \"\"\"\n",
    "    \n",
    "    averages = {}\n",
    "    for sentiment, scores in sent_dict.items():\n",
    "        averages[sentiment] = averages.get(sentiment, sum(scores) / len(scores))\n",
    "    # Will need to adjust this formula\n",
    "    return (100 * averages['Positive'] + 50 * averages['Mixed'] + 50 * averages['Neutral'] - 100 * averages['Negative']) / 100\n",
    "        \n",
    "    \n",
    "    \n",
    "scores = {\n",
    "    'Positive': list(np.random.rand(25)),\n",
    "    'Negative': list(np.random.rand(25)),\n",
    "    'Neutral': list(np.random.rand(25)),\n",
    "    'Mixed': list(np.random.rand(25))\n",
    "}\n",
    "\n",
    "compute_article_score(scores)"
   ]
  },
  {
   "cell_type": "code",
   "execution_count": null,
   "metadata": {},
   "outputs": [],
   "source": [
    "# Function no longer needed\n",
    "\n",
    "#def article_sentiment(averages):\n",
    "    \"\"\"Takes in a dictionary with an average score for each of the four sentiments\n",
    "        and computes the overall sentiment score of that particular article\n",
    "        - score will be a number from \n",
    "    \"\"\"\n",
    "    #return 100 * averages['Positive'] + 50 * averages['Mixed'] + 50 * averages['Neutral'] - 100 * averages['Negative'] / 400\n",
    "    "
   ]
  },
  {
   "cell_type": "code",
   "execution_count": 28,
   "metadata": {},
   "outputs": [],
   "source": [
    "# What the \"article\" struct will look like:\n",
    "# {\n",
    "#    'content': all of the actual body of the tweet (not used for calculating the total score)\n",
    "#    'score': {'Positive: ...', ..., 'Mixed': ...}\n",
    "#    - dictionary of each sentiment average value\n",
    "#    'relevance': decimal number between 1 and 100\n",
    "# }\n",
    "\n",
    "def compute_total_score(articles_list):\n",
    "    \"\"\"Takes in a list of several article structures (10 articles or 25 Tweets)\n",
    "    - article structure consists of:\n",
    "        1. a sentiment dictionary (computed from compute_article_score)\n",
    "        2. a reliability score (unclear yet how exactly determined, may not be used for Twitter)\n",
    "            - NOT included for now (assuming tweets)\n",
    "        3. a relevance score (if Twitter, will replace reliability and will consider # of likes and retweets)\n",
    "    - return: a float value between 0 and 100 that reflects the sentiment score of the overall company\n",
    "    \"\"\"\n",
    "    total = 0\n",
    "    for article in articles_list:\n",
    "        total += article['score'] * article['relevance']\n",
    "    final_score = total / len(articles_list)\n",
    "    return final_score\n",
    "\n",
    "compute_total_score(articles)"
   ]
  }
 ],
 "metadata": {
  "kernelspec": {
   "display_name": "Python 3",
   "language": "python",
   "name": "python3"
  },
  "language_info": {
   "codemirror_mode": {
    "name": "ipython",
    "version": 3
   },
   "file_extension": ".py",
   "mimetype": "text/x-python",
   "name": "python",
   "nbconvert_exporter": "python",
   "pygments_lexer": "ipython3",
   "version": "3.8.5"
  }
 },
 "nbformat": 4,
 "nbformat_minor": 4
}
