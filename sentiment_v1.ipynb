{
  "nbformat": 4,
  "nbformat_minor": 0,
  "metadata": {
    "kernelspec": {
      "display_name": "Python 3",
      "language": "python",
      "name": "python3"
    },
    "language_info": {
      "codemirror_mode": {
        "name": "ipython",
        "version": 3
      },
      "file_extension": ".py",
      "mimetype": "text/x-python",
      "name": "python",
      "nbconvert_exporter": "python",
      "pygments_lexer": "ipython3",
      "version": "3.8.5"
    },
    "colab": {
      "name": "sentiment_v1.ipynb",
      "provenance": []
    }
  },
  "cells": [
    {
      "cell_type": "code",
      "metadata": {
        "colab": {
          "base_uri": "https://localhost:8080/"
        },
        "id": "JfMJnr_M199t",
        "outputId": "4ec90928-c5a2-45ab-bcf4-00b312fc9d46"
      },
      "source": [
        "import numpy as np\n",
        "\n",
        "def get_relevance(num_likes, num_rt):\n",
        "    \"\"\"Factors in the number of likes and retweets a post has to determine\n",
        "        how relevant that Tweet is (how many people see it/are affected by it)\n",
        "        Parameters:\n",
        "        - num_likes: the number of likes a Tweet has\n",
        "        - num_rt: the number of retweets a Tweet has\n",
        "    \"\"\"\n",
        "    \n",
        "    # definitely need to play around with how exactly we want these numbers to work\n",
        "    # maybe try to think of some test cases that make the numbers better\n",
        "    likes_coeff = 0.1 * np.sqrt(num_likes)\n",
        "    rt_coeff = np.sqrt(0.1) * np.sqrt(num_rt)\n",
        "    relavance = (likes_coeff + rt_coeff) / 100\n",
        "    return relavance / sum(relavance)\n",
        "\n",
        "#I choose some numbers of likes and retweets of LBJ's recent tweets\n",
        "#Maybe we can try some tags as well? I searched some like #coke #pepsi but its \n",
        "#hard to find tweets with much significance, another problem is there may be \n",
        "#irrelavant info like a concert sponsored by Pepsi\n",
        "likes = [30100, 66700, 223000, 228400, 65100]\n",
        "rt = [4800, 7500, 41700, 31800, 5400]\n",
        "get_relevance(likes, rt)"
      ],
      "execution_count": 3,
      "outputs": [
        {
          "output_type": "execute_result",
          "data": {
            "text/plain": [
              "array([0.10990416, 0.14896923, 0.31298159, 0.29166127, 0.13648375])"
            ]
          },
          "metadata": {
            "tags": []
          },
          "execution_count": 3
        }
      ]
    },
    {
      "cell_type": "code",
      "metadata": {
        "colab": {
          "base_uri": "https://localhost:8080/"
        },
        "id": "lK2f4iAT199x",
        "outputId": "d612c5f9-b5b6-4938-cc57-62ea0ac4067e"
      },
      "source": [
        "import numpy as np\n",
        "\n",
        "def compute_article_score(sent_dict):\n",
        "    \"\"\"Computes the average of each sentiment list\n",
        "    - each list item is from a key phrase in the article/Tweet\n",
        "    - sentiments include POSITIVE, NEGATIVE, MIXED, and NEUTRAL\n",
        "    - Parameter: sent_dict:\n",
        "        - structured as {'sentiment1': [score1, score2, ..., scoren], ..., sentiment4: [score1, score2, ..., scoren]}\n",
        "    - return: a float value between 0 and 1 that reflects the overall sentiment of the article\n",
        "        - value of 0-40 = NEGATIVE, 40-60 = NEUTRAL, 60-100 = POSITIVE\n",
        "    \"\"\"\n",
        "    \n",
        "    averages = {}\n",
        "    for sentiment, scores in sent_dict.items():\n",
        "        averages[sentiment] = averages.get(sentiment, sum(scores) / len(scores))\n",
        "    # Will need to adjust this formula\n",
        "    return (100 * averages['Positive'] + 50 * averages['Mixed'] + 50 * averages['Neutral'] - 100 * averages['Negative']) / 100\n",
        "        \n",
        "    \n",
        "    \n",
        "scores = {\n",
        "    'Positive': list(np.random.rand(50)),\n",
        "    'Negative': list(np.random.rand(10)),\n",
        "    'Neutral': list(np.random.rand(20)),\n",
        "    'Mixed': list(np.random.rand(20))\n",
        "}\n",
        "\n",
        "compute_article_score(scores)"
      ],
      "execution_count": 4,
      "outputs": [
        {
          "output_type": "execute_result",
          "data": {
            "text/plain": [
              "0.6119038039532803"
            ]
          },
          "metadata": {
            "tags": []
          },
          "execution_count": 4
        }
      ]
    },
    {
      "cell_type": "code",
      "metadata": {
        "id": "wPtb7cIA199y"
      },
      "source": [
        "# Function no longer needed\n",
        "\n",
        "#def article_sentiment(averages):\n",
        "    \"\"\"Takes in a dictionary with an average score for each of the four sentiments\n",
        "        and computes the overall sentiment score of that particular article\n",
        "        - score will be a number from \n",
        "    \"\"\"\n",
        "    #return 100 * averages['Positive'] + 50 * averages['Mixed'] + 50 * averages['Neutral'] - 100 * averages['Negative'] / 400\n",
        "    "
      ],
      "execution_count": null,
      "outputs": []
    },
    {
      "cell_type": "code",
      "metadata": {
        "id": "5wEa-W-g199z"
      },
      "source": [
        "# What the \"article\" struct will look like:\n",
        "# {\n",
        "#    'content': all of the actual body of the tweet (not used for calculating the total score)\n",
        "#    'score': {'Positive: ...', ..., 'Mixed': ...}\n",
        "#    - dictionary of each sentiment average value\n",
        "#    'relevance': decimal number between 1 and 100\n",
        "# }\n",
        "\n",
        "def compute_total_score(articles_list):\n",
        "    \"\"\"Takes in a list of several article structures (10 articles or 25 Tweets)\n",
        "    - article structure consists of:\n",
        "        1. a sentiment dictionary (computed from compute_article_score)\n",
        "        2. a reliability score (unclear yet how exactly determined, may not be used for Twitter)\n",
        "            - NOT included for now (assuming tweets)\n",
        "        3. a relevance score (if Twitter, will replace reliability and will consider # of likes and retweets)\n",
        "    - return: a float value between 0 and 100 that reflects the sentiment score of the overall company\n",
        "    \"\"\"\n",
        "    total = 0\n",
        "    for article in articles_list:\n",
        "        total += article['score'] * article['relevance']\n",
        "    final_score = total / len(articles_list)\n",
        "    return final_score\n",
        "\n",
        "compute_total_score(articles)"
      ],
      "execution_count": null,
      "outputs": []
    }
  ]
}